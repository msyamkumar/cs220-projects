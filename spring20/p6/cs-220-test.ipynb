{
 "cells": [
  {
   "cell_type": "code",
   "execution_count": 1,
   "metadata": {},
   "outputs": [
    {
     "data": {
      "text/plain": [
       "['country', 'points', 'price', 'variety', 'winery', 'description']"
      ]
     },
     "execution_count": 1,
     "metadata": {},
     "output_type": "execute_result"
    }
   ],
   "source": [
    "import csv\n",
    "aFile = open('wine.csv', encoding='utf-8')\n",
    "aReader = csv.reader(aFile)\n",
    "aData = list(aReader)\n",
    "header = aData[0]\n",
    "data = aData[1:]\n",
    "header"
   ]
  },
  {
   "cell_type": "code",
   "execution_count": 2,
   "metadata": {},
   "outputs": [
    {
     "data": {
      "text/plain": [
       "['US',\n",
       " 'Spain',\n",
       " 'France',\n",
       " 'Italy',\n",
       " 'New Zealand',\n",
       " 'Bulgaria',\n",
       " 'Argentina',\n",
       " 'Australia',\n",
       " 'Portugal',\n",
       " 'Israel',\n",
       " 'South Africa',\n",
       " 'Greece',\n",
       " 'Chile',\n",
       " 'Morocco',\n",
       " 'Romania',\n",
       " 'Germany',\n",
       " 'Canada',\n",
       " 'Moldova',\n",
       " 'Hungary',\n",
       " 'Austria',\n",
       " 'Croatia',\n",
       " 'Slovenia',\n",
       " 'India']"
      ]
     },
     "execution_count": 2,
     "metadata": {},
     "output_type": "execute_result"
    }
   ],
   "source": [
    "#q1\n",
    "countryList = []\n",
    "for i in range(len(data)):\n",
    "    countryName = data[i][0]\n",
    "    if countryName != \"\" and countryName not in countryList:\n",
    "        countryList.append(countryName)    \n",
    "        \n",
    "countryList        "
   ]
  },
  {
   "cell_type": "code",
   "execution_count": 3,
   "metadata": {},
   "outputs": [
    {
     "data": {
      "text/plain": [
       "39.40787623066104"
      ]
     },
     "execution_count": 3,
     "metadata": {},
     "output_type": "execute_result"
    }
   ],
   "source": [
    "#q2\n",
    "cnt = 0\n",
    "sum = 0\n",
    "for i in range(len(data)):\n",
    "    point = data[i][2]\n",
    "    if point != \"\" and point not in countryList:\n",
    "        cnt += float(point)\n",
    "        sum += 1\n",
    "\n",
    "cnt/sum        "
   ]
  },
  {
   "cell_type": "code",
   "execution_count": 4,
   "metadata": {},
   "outputs": [
    {
     "data": {
      "text/plain": [
       "['Kumeu River', 'Spy Valley', 'Felton Road']"
      ]
     },
     "execution_count": 4,
     "metadata": {},
     "output_type": "execute_result"
    }
   ],
   "source": [
    "#q3\n",
    "wineList = []\n",
    "for i in range(len(data)):\n",
    "    if data[i][0] == \"New Zealand\" and data[i][header.index(\"winery\")] not in wineList:\n",
    "        wineList.append(data[i][header.index(\"winery\")]) \n",
    "        \n",
    "wineList        "
   ]
  },
  {
   "cell_type": "code",
   "execution_count": 5,
   "metadata": {},
   "outputs": [
    {
     "data": {
      "text/plain": [
       "['Pinot Noir',\n",
       " 'Cabernet Sauvignon',\n",
       " 'Zinfandel',\n",
       " 'Lemberger',\n",
       " 'Aglianico',\n",
       " 'Bordeaux-style Red Blend',\n",
       " 'Cabernet Franc',\n",
       " 'Sangiovese',\n",
       " 'Merlot',\n",
       " 'Nebbiolo',\n",
       " 'Blaufränkisch',\n",
       " 'Meritage',\n",
       " 'Rosé']"
      ]
     },
     "execution_count": 5,
     "metadata": {},
     "output_type": "execute_result"
    }
   ],
   "source": [
    "#q4\n",
    "ansList = []\n",
    "for i in range(len(data)):\n",
    "    check = data[i][header.index(\"description\")]\n",
    "    ans = data[i][header.index(\"variety\")]\n",
    "    if \"cranberry\" in check.lower() and ans not in ansList:\n",
    "        ansList.append(ans) \n",
    "        \n",
    "q4List = ansList   \n",
    "q4List"
   ]
  },
  {
   "cell_type": "code",
   "execution_count": 6,
   "metadata": {},
   "outputs": [
    {
     "data": {
      "text/plain": [
       "['Pinot Grigio', 'Chardonnay', 'Sparkling Blend']"
      ]
     },
     "execution_count": 6,
     "metadata": {},
     "output_type": "execute_result"
    }
   ],
   "source": [
    "#q5\n",
    "ansList = []\n",
    "for i in range(len(data)):\n",
    "    check = data[i][header.index(\"description\")]\n",
    "    ans = data[i][header.index(\"variety\")]\n",
    "    if \"lemon-lime soda\" in check.lower() and ans not in ansList:\n",
    "        ansList.append(ans) \n",
    "        \n",
    "ansList        "
   ]
  },
  {
   "cell_type": "code",
   "execution_count": 7,
   "metadata": {},
   "outputs": [
    {
     "data": {
      "text/plain": [
       "['Tinta de Toro', 'Cabernet Sauvignon', 'Tempranillo', 'Red Blend', 'Castelão']"
      ]
     },
     "execution_count": 7,
     "metadata": {},
     "output_type": "execute_result"
    }
   ],
   "source": [
    "#q6\n",
    "ansList = []\n",
    "for i in range(len(data)):\n",
    "    check = data[i][header.index(\"description\")]\n",
    "    ans = data[i][header.index(\"variety\")]\n",
    "    if \"black-fruit\" in check.lower() and ans not in ansList:\n",
    "        ansList.append(ans) \n",
    "        \n",
    "q6List = ansList  \n",
    "q6List"
   ]
  },
  {
   "cell_type": "code",
   "execution_count": 8,
   "metadata": {},
   "outputs": [
    {
     "data": {
      "text/plain": [
       "['Cabernet Sauvignon']"
      ]
     },
     "execution_count": 8,
     "metadata": {},
     "output_type": "execute_result"
    }
   ],
   "source": [
    "#q7\n",
    "ansList = []\n",
    "check = \"\".join(sorted('Cabernet Sauvignon'.lower().replace(\" \", \"\")))\n",
    "for i in range(len(data)):\n",
    "    ans = data[i][header.index(\"variety\")]\n",
    "    if \"\".join(sorted(ans.lower().replace(\" \", \"\"))) == check and ans not in ansList:\n",
    "        ansList.append(ans) \n",
    "        \n",
    "ansList        "
   ]
  },
  {
   "cell_type": "code",
   "execution_count": 9,
   "metadata": {},
   "outputs": [
    {
     "data": {
      "text/plain": [
       "123"
      ]
     },
     "execution_count": 9,
     "metadata": {},
     "output_type": "execute_result"
    }
   ],
   "source": [
    "#q8\n",
    "ansList = []\n",
    "cnt = 0\n",
    "for i in range(len(data)):\n",
    "    check = data[i][header.index(\"variety\")]\n",
    "    ans = data[i][header.index(\"winery\")]\n",
    "    if \"Pinot Noir\" == check and ans not in ansList:\n",
    "        ansList.append(ans) \n",
    "        cnt += 1\n",
    "        \n",
    "cnt        "
   ]
  },
  {
   "cell_type": "code",
   "execution_count": 10,
   "metadata": {},
   "outputs": [
    {
     "data": {
      "text/plain": [
       "['Tinta de Toro']"
      ]
     },
     "execution_count": 10,
     "metadata": {},
     "output_type": "execute_result"
    }
   ],
   "source": [
    "#q9\n",
    "highestWinery = []\n",
    "highestPt = 0\n",
    "cnt = 0\n",
    "for i in range(len(data)):\n",
    "    check = float(data[i][header.index(\"points\")]) if data[i][header.index(\"points\")] != \"\" else 0\n",
    "    ans = data[i][header.index(\"variety\")]\n",
    "    if check > highestPt and \"Spain\" == data[i][header.index(\"country\")]:\n",
    "        highestPt = check\n",
    "        highestWinery = [ans]\n",
    "    elif check == highestPt and \"Spain\" == data[i][header.index(\"country\")]:    \n",
    "        highestWinery.append(ans)\n",
    "        \n",
    "highestWinery       "
   ]
  },
  {
   "cell_type": "code",
   "execution_count": 11,
   "metadata": {},
   "outputs": [
    {
     "data": {
      "text/plain": [
       "['Gaja']"
      ]
     },
     "execution_count": 11,
     "metadata": {},
     "output_type": "execute_result"
    }
   ],
   "source": [
    "#q10\n",
    "highestWinery = []\n",
    "highestPrice = 0\n",
    "cnt = 0\n",
    "for i in range(len(data)):\n",
    "    check = float(data[i][header.index(\"price\")]) if data[i][header.index(\"price\")] != \"\" else 0\n",
    "    ans = data[i][header.index(\"winery\")]\n",
    "    if check > highestPrice:\n",
    "        highestPrice = check\n",
    "        highestWinery = [ans]\n",
    "    elif check == highestPrice:    \n",
    "        highestWinery.append(ans)\n",
    "        \n",
    "highestWinery       "
   ]
  },
  {
   "cell_type": "code",
   "execution_count": 12,
   "metadata": {},
   "outputs": [],
   "source": [
    "def avePPD(name):\n",
    "    cnt = 0\n",
    "    sum = 0\n",
    "    for i in range(len(data)):\n",
    "        point = data[i][header.index(\"points\")]\n",
    "        price = data[i][header.index(\"price\")]\n",
    "        check = data[i][header.index(\"winery\")]\n",
    "        if point != \"\" and price != \"\" and name == check:\n",
    "            cnt += float(point)/float(price)\n",
    "            sum += 1\n",
    "    return cnt/sum if sum != 0 else 0    "
   ]
  },
  {
   "cell_type": "code",
   "execution_count": 13,
   "metadata": {},
   "outputs": [
    {
     "data": {
      "text/plain": [
       "1.98628003003003"
      ]
     },
     "execution_count": 13,
     "metadata": {},
     "output_type": "execute_result"
    }
   ],
   "source": [
    "#q11\n",
    "avePPD(\"Patricia Green Cellars\")"
   ]
  },
  {
   "cell_type": "code",
   "execution_count": 14,
   "metadata": {},
   "outputs": [
    {
     "data": {
      "text/plain": [
       "0.2923076923076923"
      ]
     },
     "execution_count": 14,
     "metadata": {},
     "output_type": "execute_result"
    }
   ],
   "source": [
    "#q12\n",
    "avePPD(\"Hall\")"
   ]
  },
  {
   "cell_type": "code",
   "execution_count": 15,
   "metadata": {},
   "outputs": [],
   "source": [
    "def highPPDinCounty(country):\n",
    "    ansList = []\n",
    "    for i in range(len(data)):\n",
    "        ans = data[i][header.index(\"winery\")]\n",
    "        check = data[i][header.index(\"country\")]\n",
    "        if check == country and ans not in ansList:\n",
    "            ansList.append(ans)\n",
    "\n",
    "    highestWinery = []\n",
    "    highestCheck = 0        \n",
    "    for i in ansList:\n",
    "        check = avePPD(i)\n",
    "        if check > highestCheck:\n",
    "            highestCheck = check\n",
    "            highestWinery = [i]\n",
    "        elif check == highestCheck:    \n",
    "            highestWinery.append(i)\n",
    "\n",
    "    return highestWinery        "
   ]
  },
  {
   "cell_type": "code",
   "execution_count": 16,
   "metadata": {},
   "outputs": [
    {
     "data": {
      "text/plain": [
       "['Grand Pacific']"
      ]
     },
     "execution_count": 16,
     "metadata": {},
     "output_type": "execute_result"
    }
   ],
   "source": [
    "#q13\n",
    "highPPDinCounty(\"US\")     "
   ]
  },
  {
   "cell_type": "code",
   "execution_count": 17,
   "metadata": {},
   "outputs": [
    {
     "data": {
      "text/plain": [
       "['Long Neck', 'Essay', 'Robertson Winery', 'KWV']"
      ]
     },
     "execution_count": 17,
     "metadata": {},
     "output_type": "execute_result"
    }
   ],
   "source": [
    "#q14\n",
    "highPPDinCounty(\"South Africa\")"
   ]
  },
  {
   "cell_type": "code",
   "execution_count": 18,
   "metadata": {},
   "outputs": [
    {
     "data": {
      "text/plain": [
       "['Bodega Las Cañitas']"
      ]
     },
     "execution_count": 18,
     "metadata": {},
     "output_type": "execute_result"
    }
   ],
   "source": [
    "#q15\n",
    "country = \"Argentina\"\n",
    "ansList = []\n",
    "for i in range(len(data)):\n",
    "    ans = data[i][header.index(\"winery\")]\n",
    "    check = data[i][header.index(\"country\")]\n",
    "    if check == country and ans not in ansList:\n",
    "        ansList.append(ans)\n",
    "\n",
    "lowestWinery = []\n",
    "lowestCheck = 1000        \n",
    "for i in ansList:\n",
    "    check = avePPD(i)\n",
    "    if check < lowestCheck:\n",
    "        lowestCheck = check\n",
    "        lowestWinery = [i]\n",
    "    elif check == lowestCheck:    \n",
    "        lowestWinery.append(i)\n",
    "\n",
    "lowestWinery  "
   ]
  },
  {
   "cell_type": "code",
   "execution_count": 19,
   "metadata": {},
   "outputs": [],
   "source": [
    "def varInWinery(wineryName):\n",
    "    ansList = []\n",
    "    for i in range(len(data)):\n",
    "        check = data[i][header.index(\"winery\")]\n",
    "        ans = data[i][header.index(\"variety\")]\n",
    "        if wineryName == check and ans not in ansList:\n",
    "            ansList.append(ans) \n",
    "    \n",
    "    return ansList"
   ]
  },
  {
   "cell_type": "code",
   "execution_count": 20,
   "metadata": {},
   "outputs": [
    {
     "data": {
      "text/plain": [
       "['Cabernet Franc']"
      ]
     },
     "execution_count": 20,
     "metadata": {},
     "output_type": "execute_result"
    }
   ],
   "source": [
    "#q16\n",
    "varInWinery(\"Ironstone\")"
   ]
  },
  {
   "cell_type": "code",
   "execution_count": 21,
   "metadata": {},
   "outputs": [
    {
     "data": {
      "text/plain": [
       "['Portuguese White', 'Portuguese Rosé', 'Portuguese Red']"
      ]
     },
     "execution_count": 21,
     "metadata": {},
     "output_type": "execute_result"
    }
   ],
   "source": [
    "#q17\n",
    "varInWinery(\"Quinta Nova de Nossa Senhora do Carmo\")"
   ]
  },
  {
   "cell_type": "code",
   "execution_count": 22,
   "metadata": {},
   "outputs": [
    {
     "data": {
      "text/plain": [
       "7.6923076923076925"
      ]
     },
     "execution_count": 22,
     "metadata": {},
     "output_type": "execute_result"
    }
   ],
   "source": [
    "#q18\n",
    "cnt = 0\n",
    "for i in (q4List):\n",
    "    # print(i, i in q6List)\n",
    "    if i in q6List:\n",
    "        cnt += 1\n",
    "        \n",
    "cnt/len(q4List)*100       "
   ]
  },
  {
   "cell_type": "code",
   "execution_count": 23,
   "metadata": {},
   "outputs": [
    {
     "data": {
      "text/plain": [
       "130.0"
      ]
     },
     "execution_count": 23,
     "metadata": {},
     "output_type": "execute_result"
    }
   ],
   "source": [
    "#q19\n",
    "highestPrice = 0\n",
    "for i in range(len(data)):\n",
    "    check = float(data[i][header.index(\"price\")]) if data[i][header.index(\"price\")] != \"\" else 0\n",
    "    if check > highestPrice and \"Portugal\" == data[i][header.index(\"country\")]:\n",
    "        highestPrice = check\n",
    "        \n",
    "highestPrice"
   ]
  },
  {
   "cell_type": "code",
   "execution_count": 24,
   "metadata": {},
   "outputs": [
    {
     "data": {
      "text/plain": [
       "281.0"
      ]
     },
     "execution_count": 24,
     "metadata": {},
     "output_type": "execute_result"
    }
   ],
   "source": [
    "#q20\n",
    "lowestPrice = 1000\n",
    "for i in range(len(data)):\n",
    "    check = float(data[i][header.index(\"price\")]) if data[i][header.index(\"price\")] != \"\" else 1000\n",
    "    if check < lowestPrice and \"Portugal\" == data[i][header.index(\"country\")]:\n",
    "        lowestPrice = check\n",
    "        \n",
    "highestPrice * 2 + lowestPrice * 3"
   ]
  },
  {
   "cell_type": "code",
   "execution_count": null,
   "metadata": {},
   "outputs": [],
   "source": []
  }
 ],
 "metadata": {
  "kernelspec": {
   "display_name": "Python 3",
   "language": "python",
   "name": "python3"
  },
  "language_info": {
   "codemirror_mode": {
    "name": "ipython",
    "version": 3
   },
   "file_extension": ".py",
   "mimetype": "text/x-python",
   "name": "python",
   "nbconvert_exporter": "python",
   "pygments_lexer": "ipython3",
   "version": "3.7.0"
  }
 },
 "nbformat": 4,
 "nbformat_minor": 4
}
