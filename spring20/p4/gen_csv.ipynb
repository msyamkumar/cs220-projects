{
 "cells": [
  {
   "cell_type": "code",
   "execution_count": 1,
   "metadata": {},
   "outputs": [],
   "source": [
    "import requests\n",
    "from bs4 import BeautifulSoup as bs\n",
    "import pandas as pd"
   ]
  },
  {
   "cell_type": "code",
   "execution_count": 2,
   "metadata": {},
   "outputs": [
    {
     "data": {
      "text/plain": [
       "<table width=\"100%\">\n",
       "<tr>\n",
       "<td style=\"text-align:center; border-radius: 5px; -moz-border-radius: 5px; -webkit-border-radius: 5px; -khtml-border-radius: 5px; -icab-border-radius: 5px; -o-border-radius: 5px; background: #F8D030; border: 3px solid #A1871F\" width=\"33%\"> <a class=\"image\" href=\"/wiki/File:Ash_Pikachu.png\"><img alt=\"Ash Pikachu.png\" height=\"141\" src=\"//cdn.bulbagarden.net/upload/thumb/4/49/Ash_Pikachu.png/250px-Ash_Pikachu.png\" srcset=\"//cdn.bulbagarden.net/upload/thumb/4/49/Ash_Pikachu.png/375px-Ash_Pikachu.png 1.5x, //cdn.bulbagarden.net/upload/thumb/4/49/Ash_Pikachu.png/500px-Ash_Pikachu.png 2x\" width=\"250\"/></a><br/><b><a href=\"/wiki/Ash%27s_Pikachu\" title=\"Ash's Pikachu\"><span style=\"color:#000;\">Pikachu</span></a></b> ♂\n",
       "</td>\n",
       "<td style=\"text-align:center; border-radius: 5px; -moz-border-radius: 5px; -webkit-border-radius: 5px; -khtml-border-radius: 5px; -icab-border-radius: 5px; -o-border-radius: 5px; background: #F85888; border: 3px solid #9B6470\" width=\"33%\"> <a class=\"image\" href=\"/wiki/File:Mimey.png\"><img alt=\"Mimey.png\" height=\"141\" src=\"//cdn.bulbagarden.net/upload/thumb/8/8d/Mimey.png/250px-Mimey.png\" srcset=\"//cdn.bulbagarden.net/upload/thumb/8/8d/Mimey.png/375px-Mimey.png 1.5x, //cdn.bulbagarden.net/upload/thumb/8/8d/Mimey.png/500px-Mimey.png 2x\" width=\"250\"/></a><br/><b><a href=\"/wiki/Mimey\" title=\"Mimey\"><span style=\"color:#000;\">Mimey</span></a></b>\n",
       "</td>\n",
       "<td style=\"text-align:center; border-radius: 5px; -moz-border-radius: 5px; -webkit-border-radius: 5px; -khtml-border-radius: 5px; -icab-border-radius: 5px; -o-border-radius: 5px; background: #7038F8; border: 3px solid #6D5E9C\" width=\"33%\"> <a class=\"image\" href=\"/wiki/File:Ash_Dragonite.png\"><img alt=\"Ash Dragonite.png\" height=\"141\" src=\"//cdn.bulbagarden.net/upload/thumb/9/91/Ash_Dragonite.png/250px-Ash_Dragonite.png\" srcset=\"//cdn.bulbagarden.net/upload/thumb/9/91/Ash_Dragonite.png/375px-Ash_Dragonite.png 1.5x, //cdn.bulbagarden.net/upload/thumb/9/91/Ash_Dragonite.png/500px-Ash_Dragonite.png 2x\" width=\"250\"/></a><br/><b><a href=\"/wiki/Ash%27s_Dragonite\" title=\"Ash's Dragonite\"><span style=\"color:#000;\">Dragonite</span></a></b>\n",
       "</td>\n",
       "<td>\n",
       "</td></tr></table>"
      ]
     },
     "execution_count": 2,
     "metadata": {},
     "output_type": "execute_result"
    }
   ],
   "source": [
    "url = \"https://bulbapedia.bulbagarden.net/wiki/Ash_Ketchum\"\n",
    "re = requests.get(url)\n",
    "re.raise_for_status()\n",
    "raw_data = bs(re.text, 'html.parser')\n",
    "tables = raw_data.find_all('table')\n",
    "tables = tables[3:11]\n",
    "tables[0]"
   ]
  },
  {
   "cell_type": "code",
   "execution_count": 3,
   "metadata": {},
   "outputs": [
    {
     "data": {
      "text/plain": [
       "[<a class=\"image\" href=\"/wiki/File:Ash_Pikachu.png\"><img alt=\"Ash Pikachu.png\" height=\"141\" src=\"//cdn.bulbagarden.net/upload/thumb/4/49/Ash_Pikachu.png/250px-Ash_Pikachu.png\" srcset=\"//cdn.bulbagarden.net/upload/thumb/4/49/Ash_Pikachu.png/375px-Ash_Pikachu.png 1.5x, //cdn.bulbagarden.net/upload/thumb/4/49/Ash_Pikachu.png/500px-Ash_Pikachu.png 2x\" width=\"250\"/></a>,\n",
       " <a href=\"/wiki/Ash%27s_Pikachu\" title=\"Ash's Pikachu\"><span style=\"color:#000;\">Pikachu</span></a>,\n",
       " <a class=\"image\" href=\"/wiki/File:Mimey.png\"><img alt=\"Mimey.png\" height=\"141\" src=\"//cdn.bulbagarden.net/upload/thumb/8/8d/Mimey.png/250px-Mimey.png\" srcset=\"//cdn.bulbagarden.net/upload/thumb/8/8d/Mimey.png/375px-Mimey.png 1.5x, //cdn.bulbagarden.net/upload/thumb/8/8d/Mimey.png/500px-Mimey.png 2x\" width=\"250\"/></a>,\n",
       " <a href=\"/wiki/Mimey\" title=\"Mimey\"><span style=\"color:#000;\">Mimey</span></a>,\n",
       " <a class=\"image\" href=\"/wiki/File:Ash_Dragonite.png\"><img alt=\"Ash Dragonite.png\" height=\"141\" src=\"//cdn.bulbagarden.net/upload/thumb/9/91/Ash_Dragonite.png/250px-Ash_Dragonite.png\" srcset=\"//cdn.bulbagarden.net/upload/thumb/9/91/Ash_Dragonite.png/375px-Ash_Dragonite.png 1.5x, //cdn.bulbagarden.net/upload/thumb/9/91/Ash_Dragonite.png/500px-Ash_Dragonite.png 2x\" width=\"250\"/></a>,\n",
       " <a href=\"/wiki/Ash%27s_Dragonite\" title=\"Ash's Dragonite\"><span style=\"color:#000;\">Dragonite</span></a>,\n",
       " <a class=\"image\" href=\"/wiki/File:Ash_Rotom_Phone.png\"><img alt=\"Ash Rotom Phone.png\" height=\"141\" src=\"//cdn.bulbagarden.net/upload/thumb/e/e4/Ash_Rotom_Phone.png/250px-Ash_Rotom_Phone.png\" srcset=\"//cdn.bulbagarden.net/upload/thumb/e/e4/Ash_Rotom_Phone.png/375px-Ash_Rotom_Phone.png 1.5x, //cdn.bulbagarden.net/upload/thumb/e/e4/Ash_Rotom_Phone.png/500px-Ash_Rotom_Phone.png 2x\" width=\"250\"/></a>,\n",
       " <a href=\"/wiki/Rotom_Phone\" title=\"Rotom Phone\"><span style=\"color:#000;\">Rotom Phone</span></a>,\n",
       " <a class=\"image\" href=\"/wiki/File:Ash_Bulbasaur.png\"><img alt=\"Ash Bulbasaur.png\" height=\"113\" src=\"//cdn.bulbagarden.net/upload/thumb/1/19/Ash_Bulbasaur.png/200px-Ash_Bulbasaur.png\" srcset=\"//cdn.bulbagarden.net/upload/thumb/1/19/Ash_Bulbasaur.png/300px-Ash_Bulbasaur.png 1.5x, //cdn.bulbagarden.net/upload/thumb/1/19/Ash_Bulbasaur.png/400px-Ash_Bulbasaur.png 2x\" width=\"200\"/></a>,\n",
       " <a href=\"/wiki/Ash%27s_Bulbasaur\" title=\"Ash's Bulbasaur\"><span style=\"color:#000;\">Bulbasaur</span></a>]"
      ]
     },
     "execution_count": 3,
     "metadata": {},
     "output_type": "execute_result"
    }
   ],
   "source": [
    "data = []\n",
    "for table in tables:\n",
    "    row = table.find_all('a')\n",
    "    data.extend(row)\n",
    "\n",
    "data[:10]"
   ]
  },
  {
   "cell_type": "code",
   "execution_count": 4,
   "metadata": {},
   "outputs": [
    {
     "data": {
      "text/plain": [
       "['Pikachu',\n",
       " 'Mimey',\n",
       " 'Dragonite',\n",
       " 'Rotom Phone',\n",
       " 'Bulbasaur',\n",
       " 'Charmander →\\xa0Charmeleon →\\xa0Charizard',\n",
       " 'Krabby →\\xa0Kingler',\n",
       " 'Muk',\n",
       " 'Tauros (×30)',\n",
       " 'Snorlax',\n",
       " 'Heracross',\n",
       " 'Chikorita →\\xa0Bayleef',\n",
       " 'Cyndaquil →\\xa0Quilava',\n",
       " 'Totodile',\n",
       " 'Noctowl',\n",
       " '',\n",
       " 'Egg →\\xa0Phanpy →\\xa0Donphan',\n",
       " 'Taillow →\\xa0Swellow',\n",
       " 'Treecko →\\xa0Grovyle →\\xa0Sceptile',\n",
       " 'Corphish']"
      ]
     },
     "execution_count": 4,
     "metadata": {},
     "output_type": "execute_result"
    }
   ],
   "source": [
    "raw_pokemon = []\n",
    "for i in range(len(data)):\n",
    "    if 'a href' in str(data[i]):\n",
    "        raw_pokemon.append(data[i].text)\n",
    "    \n",
    "raw_pokemon[:20]"
   ]
  },
  {
   "cell_type": "code",
   "execution_count": 5,
   "metadata": {},
   "outputs": [
    {
     "data": {
      "text/plain": [
       "['Pikachu',\n",
       " 'Mr-Mime',\n",
       " 'Dragonite',\n",
       " 'Rotom',\n",
       " 'Bulbasaur',\n",
       " 'Charmander',\n",
       " 'Charmeleon',\n",
       " 'Charizard',\n",
       " 'Krabby',\n",
       " 'Kingler',\n",
       " 'Muk',\n",
       " 'Tauros',\n",
       " 'Snorlax',\n",
       " 'Heracross',\n",
       " 'Chikorita',\n",
       " 'Bayleef',\n",
       " 'Cyndaquil',\n",
       " 'Quilava',\n",
       " 'Totodile',\n",
       " 'Noctowl']"
      ]
     },
     "execution_count": 5,
     "metadata": {},
     "output_type": "execute_result"
    }
   ],
   "source": [
    "modified_pokemon = []\n",
    "for pkmn in raw_pokemon:\n",
    "    pkmns = pkmn.replace('→\\xa0', '→').split('→')\n",
    "    modified_pokemon.extend(pkmns)\n",
    "\n",
    "pokemon = []\n",
    "for i in range(len(modified_pokemon)):\n",
    "    new_pkmn = modified_pokemon[i].strip().split(' ')[0]\n",
    "    if new_pkmn not in pokemon:\n",
    "        pokemon.append(new_pkmn)\n",
    "\n",
    "pokemon.remove('Egg')\n",
    "pokemon.remove('')\n",
    "pokemon = [pkmn if pkmn!= \"Mimey\" else \"Mr-Mime\" for pkmn in pokemon]\n",
    "pokemon[:20]"
   ]
  },
  {
   "cell_type": "code",
   "execution_count": 6,
   "metadata": {},
   "outputs": [
    {
     "data": {
      "text/plain": [
       "'https://pokemondb.net/pokedex/Pikachu'"
      ]
     },
     "execution_count": 6,
     "metadata": {},
     "output_type": "execute_result"
    }
   ],
   "source": [
    "pokemon_url = {}\n",
    "for pkmn in pokemon:\n",
    "    pokemon_url[pkmn] = ('https://pokemondb.net/pokedex/' + pkmn)\n",
    "\n",
    "pokemon_url['Pikachu']"
   ]
  },
  {
   "cell_type": "code",
   "execution_count": 7,
   "metadata": {},
   "outputs": [
    {
     "data": {
      "text/plain": [
       "93"
      ]
     },
     "execution_count": 7,
     "metadata": {},
     "output_type": "execute_result"
    }
   ],
   "source": [
    "raw_pokemon_data = {}\n",
    "for pkmn in pokemon_url:\n",
    "    try:\n",
    "        re = requests.get(pokemon_url[pkmn])\n",
    "        re.raise_for_status()\n",
    "        raw_pokemon_data[pkmn] = (bs(re.text, 'html.parser'))\n",
    "    except:\n",
    "        pass\n",
    "    \n",
    "len(raw_pokemon_data)"
   ]
  },
  {
   "cell_type": "code",
   "execution_count": 8,
   "metadata": {},
   "outputs": [
    {
     "data": {
      "text/plain": [
       "<table class=\"vitals-table\">\n",
       "<tbody>\n",
       "<tr>\n",
       "<th>HP</th>\n",
       "<td class=\"cell-num\">35</td>\n",
       "<td class=\"cell-barchart\">\n",
       "<div class=\"barchart-bar barchart-rank-2\" style=\"width:19.44%;\"></div>\n",
       "</td>\n",
       "<td class=\"cell-num\">180</td>\n",
       "<td class=\"cell-num\">274</td>\n",
       "</tr>\n",
       "<tr>\n",
       "<th>Attack</th>\n",
       "<td class=\"cell-num\">55</td>\n",
       "<td class=\"cell-barchart\">\n",
       "<div class=\"barchart-bar barchart-rank-2\" style=\"width:30.56%;\"></div>\n",
       "</td>\n",
       "<td class=\"cell-num\">103</td>\n",
       "<td class=\"cell-num\">229</td>\n",
       "</tr>\n",
       "<tr>\n",
       "<th>Defense</th>\n",
       "<td class=\"cell-num\">40</td>\n",
       "<td class=\"cell-barchart\">\n",
       "<div class=\"barchart-bar barchart-rank-2\" style=\"width:22.22%;\"></div>\n",
       "</td>\n",
       "<td class=\"cell-num\">76</td>\n",
       "<td class=\"cell-num\">196</td>\n",
       "</tr>\n",
       "<tr>\n",
       "<th>Sp. Atk</th>\n",
       "<td class=\"cell-num\">50</td>\n",
       "<td class=\"cell-barchart\">\n",
       "<div class=\"barchart-bar barchart-rank-2\" style=\"width:27.78%;\"></div>\n",
       "</td>\n",
       "<td class=\"cell-num\">94</td>\n",
       "<td class=\"cell-num\">218</td>\n",
       "</tr>\n",
       "<tr>\n",
       "<th>Sp. Def</th>\n",
       "<td class=\"cell-num\">50</td>\n",
       "<td class=\"cell-barchart\">\n",
       "<div class=\"barchart-bar barchart-rank-2\" style=\"width:27.78%;\"></div>\n",
       "</td>\n",
       "<td class=\"cell-num\">94</td>\n",
       "<td class=\"cell-num\">218</td>\n",
       "</tr>\n",
       "<tr>\n",
       "<th>Speed</th>\n",
       "<td class=\"cell-num\">90</td>\n",
       "<td class=\"cell-barchart\">\n",
       "<div class=\"barchart-bar barchart-rank-4\" style=\"width:50.00%;\"></div>\n",
       "</td>\n",
       "<td class=\"cell-num\">166</td>\n",
       "<td class=\"cell-num\">306</td>\n",
       "</tr>\n",
       "</tbody>\n",
       "<tfoot>\n",
       "<tr>\n",
       "<th>Total</th>\n",
       "<td class=\"cell-total\"><b>320</b></td>\n",
       "<th class=\"cell-barchart\"></th>\n",
       "<th>Min</th>\n",
       "<th>Max</th>\n",
       "</tr>\n",
       "</tfoot>\n",
       "</table>"
      ]
     },
     "execution_count": 8,
     "metadata": {},
     "output_type": "execute_result"
    }
   ],
   "source": [
    "raw_pokemon_stats = {}\n",
    "headers = ['HP', 'Attack', 'Defense', 'Sp. Atk', 'Sp. Def', 'Speed']\n",
    "for pkmn in raw_pokemon_data:\n",
    "    raw_pokemon_tables = raw_pokemon_data[pkmn].find_all('table')\n",
    "    for table in raw_pokemon_tables:\n",
    "        correct_table = True\n",
    "        for header in headers:\n",
    "            if header not in str(table):\n",
    "                correct_table = False\n",
    "        if correct_table and pkmn not in raw_pokemon_stats:\n",
    "            raw_pokemon_stats[pkmn] = table\n",
    "        \n",
    "raw_pokemon_stats['Pikachu']"
   ]
  },
  {
   "cell_type": "code",
   "execution_count": 9,
   "metadata": {},
   "outputs": [
    {
     "data": {
      "text/plain": [
       "[{'Name': 'Pikachu',\n",
       "  'Region': 'Kanto',\n",
       "  'Type 1': 'Electric',\n",
       "  'Type 2': 'None',\n",
       "  'HP': '35',\n",
       "  'Attack': '55',\n",
       "  'Defense': '40',\n",
       "  'Sp. Atk': '50',\n",
       "  'Sp. Def': '50',\n",
       "  'Speed': '90'},\n",
       " {'Name': 'Mr-Mime',\n",
       "  'Region': 'Kanto',\n",
       "  'Type 1': 'Psychic',\n",
       "  'Type 2': 'Fairy',\n",
       "  'HP': '40',\n",
       "  'Attack': '45',\n",
       "  'Defense': '65',\n",
       "  'Sp. Atk': '100',\n",
       "  'Sp. Def': '120',\n",
       "  'Speed': '90'},\n",
       " {'Name': 'Dragonite',\n",
       "  'Region': 'Kanto',\n",
       "  'Type 1': 'Dragon',\n",
       "  'Type 2': 'Flying',\n",
       "  'HP': '91',\n",
       "  'Attack': '134',\n",
       "  'Defense': '95',\n",
       "  'Sp. Atk': '100',\n",
       "  'Sp. Def': '100',\n",
       "  'Speed': '80'}]"
      ]
     },
     "execution_count": 9,
     "metadata": {},
     "output_type": "execute_result"
    }
   ],
   "source": [
    "regions = {1: \"Kanto\", 2: \"Johto\", 3: \"Hoenn\", 4: \"Sinnoh\", 5: \"Unova\", 6: \"Kalos\", 7: \"Alola\"}\n",
    "\n",
    "pokemon_stats = []\n",
    "for pkmn in raw_pokemon_stats:\n",
    "    stats = {}\n",
    "    raw_stats = raw_pokemon_stats[pkmn].find_all('tr')\n",
    "    stats['Name'] = pkmn\n",
    "    generation_text = raw_pokemon_data[pkmn].find('p').text\n",
    "    generation_idx = generation_text.find('Generation')\n",
    "    generation = int(generation_text[generation_idx + len('Generation ')])\n",
    "    stats[\"Region\"] = regions[generation]\n",
    "    pkmn_types = raw_pokemon_data[pkmn].find('table').find_all('td')[1].find_all('a')\n",
    "    stats['Type 1'] = pkmn_types[0].text\n",
    "    if len(pkmn_types) > 1:\n",
    "        stats['Type 2'] = pkmn_types[1].text\n",
    "    else:\n",
    "        stats['Type 2'] = 'None'\n",
    "    for stat in raw_stats:\n",
    "        stat_name = stat.find('th').get_text()\n",
    "        stat_num = stat.find('td').get_text()\n",
    "        if stat_name in headers:\n",
    "            stats[stat_name] = stat_num\n",
    "    pokemon_stats.append(stats)\n",
    "\n",
    "pokemon_stats[:3]"
   ]
  },
  {
   "cell_type": "code",
   "execution_count": 10,
   "metadata": {},
   "outputs": [],
   "source": [
    "df = pd.DataFrame(pokemon_stats)\n",
    "df.to_csv('pokemon_stats.csv')"
   ]
  },
  {
   "cell_type": "code",
   "execution_count": null,
   "metadata": {},
   "outputs": [],
   "source": []
  }
 ],
 "metadata": {
  "kernelspec": {
   "display_name": "Python 3",
   "language": "python",
   "name": "python3"
  },
  "language_info": {
   "codemirror_mode": {
    "name": "ipython",
    "version": 3
   },
   "file_extension": ".py",
   "mimetype": "text/x-python",
   "name": "python",
   "nbconvert_exporter": "python",
   "pygments_lexer": "ipython3",
   "version": "3.6.9"
  }
 },
 "nbformat": 4,
 "nbformat_minor": 2
}
